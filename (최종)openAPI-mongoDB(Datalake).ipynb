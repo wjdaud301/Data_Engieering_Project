{
 "cells": [
  {
   "cell_type": "markdown",
   "id": "aded0954",
   "metadata": {},
   "source": [
    "### 날짜 사이 모든 날짜 리스트로 구해서 mongoDB에 저장"
   ]
  },
  {
   "cell_type": "code",
   "execution_count": null,
   "id": "eb0bfdeb",
   "metadata": {},
   "outputs": [],
   "source": [
    "from urllib.request import Request, urlopen\n",
    "from urllib.parse import urlencode, quote_plus\n",
    "from xml.etree import ElementTree\n",
    "\n",
    "from pyspark.conf import SparkConf\n",
    "from pyspark.sql import SparkSession\n",
    "from pyspark.sql.types import StructType,StructField, StringType, IntegerType\n",
    "from pyspark.sql.functions import array_contains, udf\n",
    "\n",
    "from datetime import datetime, timedelta\n",
    "from pymongo import MongoClient\n",
    "import pandas as pd\n",
    "import json\n",
    "## processing_load.py\n",
    "spark = SparkSession \\\n",
    "    .builder \\\n",
    "    .appName(\"multi\") \\\n",
    "    .config(\"spark.mongodb.input.uri\", \"mongodb://localhost:27017\") \\\n",
    "    .config(\"spark.mongodb.input.database\",\"datalake\") \\\n",
    "    .config(\"spark.mongodb.input.collection\", \"i\") \\\n",
    "    .config(\"packages org.mongodb.spark:mongo-spark-connector_2.12:3.0.1\") \\\n",
    "    .getOrCreate()\n",
    "sc =spark.sparkContext\n",
    "\n",
    "# pymongo connect\n",
    "client = MongoClient('localhost',27017) # mongodb 27017 port\n",
    "db = client.datalake\n",
    "\n",
    "skey = \"5752524157776a643837426953524b\"\n",
    "today = datetime.today() - timedelta(4)\n",
    "today_4 = today.strftime(\"%Y%m%d\")\n",
    "\n",
    "url = \"http://openapi.seoul.go.kr:8088/{0}/json/CardSubwayStatsNew/1/1000/\".format(skey)\n",
    "\n",
    "today = datetime.today() - timedelta(5)\n",
    "today_5 = today.strftime(\"%Y%m%d\")\n",
    "start = '20190101'\n",
    "\n",
    "def date_range(start, end):\n",
    "    start = datetime.strptime(start, \"%Y%m%d\")\n",
    "    end = datetime.strptime(end, \"%Y%m%d\")\n",
    "    dates = [date.strftime(\"%Y%m%d\") for date in pd.date_range(start, periods=(end-start).days+1)]\n",
    "    return dates\n",
    "    \n",
    "dates = date_range(start, today_5)\n",
    "\n",
    "## openAPI에서 받아온 데이터를 전부 mongoDB에 저장\n",
    "for i in date:\n",
    "    responseBody = urlopen(url+i).read().decode('utf-8')\n",
    "    jsonArray = json.loads(responseBody)\n",
    "    storeInfosArray= jsonArray[\"CardSubwayStatsNew\"][\"row\"]\n",
    "    if storeInfosArray is not None:\n",
    "        for j in range(len(storeInfosArray)):\n",
    "            db.i.insert_one(storeInfosArray[j])\n",
    "            "
   ]
  },
  {
   "cell_type": "code",
   "execution_count": 8,
   "id": "fe825914",
   "metadata": {},
   "outputs": [
    {
     "name": "stderr",
     "output_type": "stream",
     "text": [
      "<ipython-input-8-d8f9cccf4e54>:1: DeprecationWarning: remove is deprecated. Use delete_one or delete_many instead.\n",
      "  db.i.remove({'USE_DT':'20210814'})\n"
     ]
    },
    {
     "data": {
      "text/plain": [
       "{'n': 3606, 'ok': 1.0}"
      ]
     },
     "execution_count": 8,
     "metadata": {},
     "output_type": "execute_result"
    }
   ],
   "source": [
    "db.i.remove({'USE_DT':'20210814'})"
   ]
  },
  {
   "cell_type": "code",
   "execution_count": 9,
   "id": "8c8bd737",
   "metadata": {},
   "outputs": [
    {
     "name": "stdout",
     "output_type": "stream",
     "text": [
      "MongoDB Database :  ['admin', 'config', 'datalake', 'local', 'test']\n",
      "MongoDB Collection :  ['i'] \n",
      "\n",
      "Data\n"
     ]
    },
    {
     "name": "stderr",
     "output_type": "stream",
     "text": [
      "<ipython-input-9-d97d3d6adf86>:10: DeprecationWarning: count is deprecated. Use Collection.count_documents instead.\n",
      "  print(result.count())\n"
     ]
    },
    {
     "name": "stdout",
     "output_type": "stream",
     "text": [
      "601\n",
      "{'_id': ObjectId('611c61ecaaab34c81dbab098'), 'USE_DT': '20210814', 'LINE_NUM': '1호선', 'SUB_STA_NM': '서울역', 'RIDE_PASGR_NUM': 21222.0, 'ALIGHT_PASGR_NUM': 23912.0, 'WORK_DT': '20210817'}\n",
      "{'_id': ObjectId('611c61ecaaab34c81dbab099'), 'USE_DT': '20210814', 'LINE_NUM': '1호선', 'SUB_STA_NM': '동묘앞', 'RIDE_PASGR_NUM': 9368.0, 'ALIGHT_PASGR_NUM': 9560.0, 'WORK_DT': '20210817'}\n",
      "{'_id': ObjectId('611c61ecaaab34c81dbab09a'), 'USE_DT': '20210814', 'LINE_NUM': '1호선', 'SUB_STA_NM': '시청', 'RIDE_PASGR_NUM': 5601.0, 'ALIGHT_PASGR_NUM': 3452.0, 'WORK_DT': '20210817'}\n",
      "{'_id': ObjectId('611c61ecaaab34c81dbab09b'), 'USE_DT': '20210814', 'LINE_NUM': '1호선', 'SUB_STA_NM': '종각', 'RIDE_PASGR_NUM': 13776.0, 'ALIGHT_PASGR_NUM': 12412.0, 'WORK_DT': '20210817'}\n",
      "{'_id': ObjectId('611c61ecaaab34c81dbab09c'), 'USE_DT': '20210814', 'LINE_NUM': '1호선', 'SUB_STA_NM': '종로3가', 'RIDE_PASGR_NUM': 18102.0, 'ALIGHT_PASGR_NUM': 17077.0, 'WORK_DT': '20210817'}\n",
      "{'_id': ObjectId('611c61ecaaab34c81dbab09d'), 'USE_DT': '20210814', 'LINE_NUM': '1호선', 'SUB_STA_NM': '종로5가', 'RIDE_PASGR_NUM': 13993.0, 'ALIGHT_PASGR_NUM': 13791.0, 'WORK_DT': '20210817'}\n",
      "{'_id': ObjectId('611c61ecaaab34c81dbab09e'), 'USE_DT': '20210814', 'LINE_NUM': '1호선', 'SUB_STA_NM': '동대문', 'RIDE_PASGR_NUM': 7765.0, 'ALIGHT_PASGR_NUM': 7506.0, 'WORK_DT': '20210817'}\n",
      "{'_id': ObjectId('611c61ecaaab34c81dbab09f'), 'USE_DT': '20210814', 'LINE_NUM': '1호선', 'SUB_STA_NM': '신설동', 'RIDE_PASGR_NUM': 7557.0, 'ALIGHT_PASGR_NUM': 7101.0, 'WORK_DT': '20210817'}\n",
      "{'_id': ObjectId('611c61ecaaab34c81dbab0a0'), 'USE_DT': '20210814', 'LINE_NUM': '1호선', 'SUB_STA_NM': '제기동', 'RIDE_PASGR_NUM': 12330.0, 'ALIGHT_PASGR_NUM': 12612.0, 'WORK_DT': '20210817'}\n",
      "{'_id': ObjectId('611c61ecaaab34c81dbab0a1'), 'USE_DT': '20210814', 'LINE_NUM': '1호선', 'SUB_STA_NM': '청량리(서울시립대입구)', 'RIDE_PASGR_NUM': 14949.0, 'ALIGHT_PASGR_NUM': 15326.0, 'WORK_DT': '20210817'}\n"
     ]
    }
   ],
   "source": [
    "## 확인용\n",
    "\n",
    "print('MongoDB Database : ',client.list_database_names())\n",
    "\n",
    "print('MongoDB Collection : ',db.list_collection_names(),'\\n')\n",
    "\n",
    "# 검색\n",
    "print('Data')\n",
    "result = db.i.find({\"USE_DT\":\"20210814\"})\n",
    "print(result.count())\n",
    "for i in result[:10]:\n",
    "    print(i)"
   ]
  },
  {
   "cell_type": "code",
   "execution_count": null,
   "id": "5c8d6e27",
   "metadata": {},
   "outputs": [],
   "source": []
  }
 ],
 "metadata": {
  "kernelspec": {
   "display_name": "Environment (conda_py38_multi)",
   "language": "python",
   "name": "conda_py38_multi"
  },
  "language_info": {
   "codemirror_mode": {
    "name": "ipython",
    "version": 3
   },
   "file_extension": ".py",
   "mimetype": "text/x-python",
   "name": "python",
   "nbconvert_exporter": "python",
   "pygments_lexer": "ipython3",
   "version": "3.8.11"
  }
 },
 "nbformat": 4,
 "nbformat_minor": 5
}
