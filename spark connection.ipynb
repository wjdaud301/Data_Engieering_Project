{
 "cells": [
  {
   "cell_type": "code",
   "execution_count": 1,
   "id": "339cd63c",
   "metadata": {},
   "outputs": [],
   "source": [
    "from pyspark.conf import SparkConf\n",
    "from pyspark.sql import SparkSession\n",
    "from pyspark.sql.types import StructType,StructField, StringType, IntegerType\n",
    "\n",
    "# conf = SparkConf()\n",
    "# conf.set('spark.jars.packages', \"org.mongodb.spark:mongo-spark-connector_2.12:3.0.1\")\n",
    "# spark = SparkSession.builder.appName(\"multi\").config(conf=conf).getOrCreate()\n",
    "\n",
    "spark = SparkSession \\\n",
    "    .builder \\\n",
    "    .appName(\"multi\") \\\n",
    "    .config(\"spark.mongodb.input.uri\", \"mongodb://localhost:27017\") \\\n",
    "    .config(\"spark.mongodb.input.database\",\"datalake\") \\\n",
    "    .config(\"spark.mongodb.input.collection\", \"i\") \\\n",
    "    .config(\"packages org.mongodb.spark:mongo-spark-connector_2.12:3.0.1\") \\\n",
    "    .getOrCreate()\n",
    "\n",
    "sc =spark.sparkContext\n",
    "\n"
   ]
  },
  {
   "cell_type": "code",
   "execution_count": 2,
   "id": "84f45557",
   "metadata": {},
   "outputs": [],
   "source": [
    "'''\n",
    "'USE_DT': '20210806',\n",
    "'LINE_NUM': '1호선',\n",
    "'SUB_STA_NM': '종각',\n",
    "'RIDE_PASGR_NUM': 27789.0,\n",
    "'ALIGHT_PASGR_NUM': 26895.0,\n",
    "'WORK_DT': '20210809'\n",
    "'''  \n",
    "\n",
    "subwaySchema =  StructType([\n",
    "    StructField(\"USE_DT\", StringType(),True),\n",
    "    StructField(\"LINE_NUM\", StringType(),True),\n",
    "    StructField(\"SUB_STA_NM\", StringType(),True),\n",
    "    StructField(\"RIDE_PASGR_NUM\", IntegerType(),True),\n",
    "    StructField(\"ALIGHT_PASGR_NUM\", IntegerType(),True),\n",
    "    StructField(\"WORK_DT\", StringType(),True),\n",
    "  ])"
   ]
  },
  {
   "cell_type": "code",
   "execution_count": 3,
   "id": "aaa57516",
   "metadata": {},
   "outputs": [],
   "source": [
    "# df = spark.read.format(\"mongo\").load()\n",
    "df = spark.read.schema(subwaySchema).format(\"com.mongodb.spark.sql.DefaultSource\").load() "
   ]
  },
  {
   "cell_type": "code",
   "execution_count": 5,
   "id": "f8e493df",
   "metadata": {},
   "outputs": [
    {
     "name": "stdout",
     "output_type": "stream",
     "text": [
      "+--------+--------+----------------------+--------------+----------------+--------+\n",
      "|  USE_DT|LINE_NUM|            SUB_STA_NM|RIDE_PASGR_NUM|ALIGHT_PASGR_NUM| WORK_DT|\n",
      "+--------+--------+----------------------+--------------+----------------+--------+\n",
      "|20190101|   1호선|                서울역|         39420|           31121|20190104|\n",
      "|20190101|   1호선|                  시청|         11807|           10322|20190104|\n",
      "|20190101|   1호선|                  종각|         20944|           16658|20190104|\n",
      "|20190101|   1호선|               종로3가|         17798|           15762|20190104|\n",
      "|20190101|   1호선|               종로5가|         13578|           13282|20190104|\n",
      "|20190101|   1호선|                동대문|          9337|           10457|20190104|\n",
      "|20190101|   1호선|                신설동|          6832|            6930|20190104|\n",
      "|20190101|   1호선|                제기동|         10187|           10178|20190104|\n",
      "|20190101|   1호선|청량리(서울시립대입구)|         15007|           15397|20190104|\n",
      "|20190101|   1호선|                동묘앞|          8045|            8504|20190104|\n",
      "|20190101|   2호선|                  시청|          8381|            6049|20190104|\n",
      "|20190101|   2호선|            을지로입구|         22478|           21330|20190104|\n",
      "|20190101|   2호선|             을지로3가|          8104|            7554|20190104|\n",
      "|20190101|   2호선|             을지로4가|          3862|            3728|20190104|\n",
      "|20190101|   2호선|    동대문역사문화공원|         10995|           11808|20190104|\n",
      "|20190101|   2호선|                  신당|          6811|            7324|20190104|\n",
      "|20190101|   2호선|              상왕십리|          5723|            5960|20190104|\n",
      "|20190101|   2호선|      왕십리(성동구청)|          9379|            8332|20190104|\n",
      "|20190101|   2호선|                한양대|          2340|            2751|20190104|\n",
      "|20190101|   2호선|                  뚝섬|          4882|            5204|20190104|\n",
      "+--------+--------+----------------------+--------------+----------------+--------+\n",
      "only showing top 20 rows\n",
      "\n"
     ]
    }
   ],
   "source": [
    "df.limit(100).show()"
   ]
  },
  {
   "cell_type": "code",
   "execution_count": 6,
   "id": "cfbe5693",
   "metadata": {},
   "outputs": [
    {
     "name": "stdout",
     "output_type": "stream",
     "text": [
      "+----------------+--------+--------------+-----------------------+--------+--------+--------------------+\n",
      "|ALIGHT_PASGR_NUM|LINE_NUM|RIDE_PASGR_NUM|             SUB_STA_NM|  USE_DT| WORK_DT|                 _id|\n",
      "+----------------+--------+--------------+-----------------------+--------+--------+--------------------+\n",
      "|         34595.0|   1호선|       34834.0|                 서울역|20210806|20210809|{61120261d3f97124...|\n",
      "|          6686.0|   1호선|        6432.0|                 동묘앞|20210806|20210809|{61120261d3f97124...|\n",
      "|         17720.0|   1호선|       17909.0|                   시청|20210806|20210809|{61120261d3f97124...|\n",
      "|         26895.0|   1호선|       27789.0|                   종각|20210806|20210809|{61120261d3f97124...|\n",
      "|         20195.0|   1호선|       21808.0|                종로3가|20210806|20210809|{61120261d3f97124...|\n",
      "|         18856.0|   1호선|       19260.0|                종로5가|20210806|20210809|{61120261d3f97124...|\n",
      "|          9261.0|   1호선|       10061.0|                 동대문|20210806|20210809|{61120261d3f97124...|\n",
      "|         11141.0|   1호선|       11236.0|                 신설동|20210806|20210809|{61120261d3f97124...|\n",
      "|         14684.0|   1호선|       14628.0|                 제기동|20210806|20210809|{61120261d3f97124...|\n",
      "|         17480.0|   1호선|       17388.0| 청량리(서울시립대입구)|20210806|20210809|{61120261d3f97124...|\n",
      "|         18550.0|   2호선|       19131.0|                   시청|20210806|20210809|{61120261d3f97124...|\n",
      "|         32485.0|   2호선|       32125.0|             을지로입구|20210806|20210809|{61120261d3f97124...|\n",
      "|         18005.0|   2호선|       18028.0|              을지로3가|20210806|20210809|{61120261d3f97124...|\n",
      "|         11208.0|   2호선|       11379.0|              을지로4가|20210806|20210809|{61120261d3f97124...|\n",
      "|         10893.0|   2호선|        9863.0|동대문역사문화공원(DDP)|20210806|20210809|{61120261d3f97124...|\n",
      "|         12473.0|   2호선|       12076.0|                   신당|20210806|20210809|{61120261d3f97124...|\n",
      "|         11843.0|   2호선|       12243.0|               상왕십리|20210806|20210809|{61120261d3f97124...|\n",
      "|         10504.0|   2호선|       12872.0|       왕십리(성동구청)|20210806|20210809|{61120261d3f97124...|\n",
      "|          5225.0|   2호선|        5207.0|                 한양대|20210806|20210809|{61120261d3f97124...|\n",
      "|         19698.0|   2호선|       18365.0|                   뚝섬|20210806|20210809|{61120261d3f97124...|\n",
      "+----------------+--------+--------------+-----------------------+--------+--------+--------------------+\n",
      "only showing top 20 rows\n",
      "\n"
     ]
    }
   ],
   "source": [
    "pipeline = \"{'$match': {'USE_DT': '20210806'}}\"\n",
    "df = spark.read.format(\"mongo\").option(\"pipeline\", pipeline).load()\n",
    " \n",
    "df.show()"
   ]
  },
  {
   "cell_type": "code",
   "execution_count": null,
   "id": "0ccf444b",
   "metadata": {},
   "outputs": [],
   "source": []
  }
 ],
 "metadata": {
  "kernelspec": {
   "display_name": "Environment (conda_py38_multi)",
   "language": "python",
   "name": "conda_py38_multi"
  },
  "language_info": {
   "codemirror_mode": {
    "name": "ipython",
    "version": 3
   },
   "file_extension": ".py",
   "mimetype": "text/x-python",
   "name": "python",
   "nbconvert_exporter": "python",
   "pygments_lexer": "ipython3",
   "version": "3.8.11"
  }
 },
 "nbformat": 4,
 "nbformat_minor": 5
}
