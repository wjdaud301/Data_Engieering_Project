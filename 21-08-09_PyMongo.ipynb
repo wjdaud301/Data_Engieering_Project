{
 "cells": [
  {
   "cell_type": "code",
   "execution_count": 3,
   "id": "c0b01aff",
   "metadata": {},
   "outputs": [],
   "source": [
    "from pymongo import MongoClient\n",
    "import datetime\n",
    "import pprint"
   ]
  },
  {
   "cell_type": "markdown",
   "id": "449aa412",
   "metadata": {},
   "source": [
    "### MongoDB 데이터 베이스 생성"
   ]
  },
  {
   "cell_type": "code",
   "execution_count": 24,
   "id": "d911d8a7",
   "metadata": {},
   "outputs": [],
   "source": [
    "conn =  MongoClient('mongodb://localhost:27017/')"
   ]
  },
  {
   "cell_type": "code",
   "execution_count": 25,
   "id": "d00ab457",
   "metadata": {},
   "outputs": [],
   "source": [
    "mydb = conn.test"
   ]
  },
  {
   "cell_type": "markdown",
   "id": "0f0ca0bd",
   "metadata": {},
   "source": [
    "### 데이터베이스 존재 확인  \n",
    "  \n",
    "MongoDB에서 데이터베이스는 Content를 얻을 때까지 생성되지 않음\n",
    "따라서, Collection과 Document를 먼저 생성해야지만, 데이터베이스의 존재를 확인할 수 있음"
   ]
  },
  {
   "cell_type": "code",
   "execution_count": 20,
   "id": "e968efd7",
   "metadata": {},
   "outputs": [
    {
     "name": "stdout",
     "output_type": "stream",
     "text": [
      "['admin', 'config', 'local']\n"
     ]
    }
   ],
   "source": [
    "print(conn.list_database_names())"
   ]
  },
  {
   "cell_type": "markdown",
   "id": "aec15f3c",
   "metadata": {},
   "source": [
    "### MongoDB Collection 생성\n",
    "MongoDB 콜렉션(Collection)을 생성하기 위해, 데이터베이스 오브젝트를 사용하여 만들고자 하는 콜렉션 이름을 지정\n",
    "MongoDB는 지정된 콜렉션 이름이 존재하지 않았다면, 바로 콜렉션을 생성함\n",
    "\n",
    "*** MongoDB 콜렉션은 SQL Database인 RDBMS의 Table의 위치에 있음**"
   ]
  },
  {
   "cell_type": "code",
   "execution_count": 28,
   "id": "06033d02",
   "metadata": {},
   "outputs": [],
   "source": [
    "col = mydb.members"
   ]
  },
  {
   "cell_type": "markdown",
   "id": "2e564865",
   "metadata": {},
   "source": [
    "### Collection 존재 확인\n",
    "MongoDB에서 콜렉션은 Content를 얻을 때까지 생성되지 않음  \n",
    "따라서, Document를 먼저 생성해야지만, 콜렉션의 존재를 확인할 수 있음"
   ]
  },
  {
   "cell_type": "code",
   "execution_count": 29,
   "id": "1b9514fe",
   "metadata": {},
   "outputs": [
    {
     "name": "stdout",
     "output_type": "stream",
     "text": [
      "[]\n"
     ]
    }
   ],
   "source": [
    "print(mydb.list_collection_names())"
   ]
  },
  {
   "cell_type": "markdown",
   "id": "92bfa6a0",
   "metadata": {},
   "source": [
    "### 정보 삽입"
   ]
  },
  {
   "cell_type": "code",
   "execution_count": 30,
   "id": "5a3a9711",
   "metadata": {},
   "outputs": [],
   "source": [
    "people = {\n",
    "    \"이름\" : \"홍길동\",\n",
    "    \"나이\" : 30,\n",
    "    \"별명\" : \"의적\"\n",
    "}"
   ]
  },
  {
   "cell_type": "code",
   "execution_count": 31,
   "id": "b5ed1e5b",
   "metadata": {},
   "outputs": [
    {
     "name": "stderr",
     "output_type": "stream",
     "text": [
      "<ipython-input-31-542bec4d8656>:1: DeprecationWarning: insert is deprecated. Use insert_one or insert_many instead.\n",
      "  col.insert(people)\n"
     ]
    },
    {
     "data": {
      "text/plain": [
       "ObjectId('61110d4faa946ed10589be5a')"
      ]
     },
     "execution_count": 31,
     "metadata": {},
     "output_type": "execute_result"
    }
   ],
   "source": [
    "col.insert(people)"
   ]
  },
  {
   "cell_type": "markdown",
   "id": "d53d3233",
   "metadata": {},
   "source": [
    "### 검색(find)"
   ]
  },
  {
   "cell_type": "code",
   "execution_count": 32,
   "id": "baf822d0",
   "metadata": {},
   "outputs": [],
   "source": [
    "result = col.find()"
   ]
  },
  {
   "cell_type": "code",
   "execution_count": 33,
   "id": "13682e37",
   "metadata": {},
   "outputs": [
    {
     "name": "stdout",
     "output_type": "stream",
     "text": [
      "{'_id': ObjectId('61110d4faa946ed10589be5a'), '이름': '홍길동', '나이': 30, '별명': '의적'}\n"
     ]
    }
   ],
   "source": [
    "for r in result:\n",
    "    print(r)"
   ]
  },
  {
   "cell_type": "code",
   "execution_count": 38,
   "id": "73b9c4a3",
   "metadata": {},
   "outputs": [
    {
     "name": "stdout",
     "output_type": "stream",
     "text": [
      "{'_id': ObjectId('61110d4faa946ed10589be5a'), '이름': '홍길동', '나이': 30, '별명': '의적'}\n"
     ]
    }
   ],
   "source": [
    "# 특정조건검색 / 이름이 홍길동인 것을 모두 가져옴\n",
    "result = col.find({'이름': '홍길동'})\n",
    "for r in result:\n",
    "    print(r)"
   ]
  },
  {
   "cell_type": "code",
   "execution_count": 40,
   "id": "f5c07bcc",
   "metadata": {},
   "outputs": [
    {
     "name": "stdout",
     "output_type": "stream",
     "text": [
      "{'_id': ObjectId('61110d4faa946ed10589be5a'), '이름': '홍길동', '나이': 30, '별명': '의적'}\n"
     ]
    }
   ],
   "source": [
    "# 특정조건검색 / 이름이 홍길동이면서 나이가 30인 결과를 모두 가져옴 (and)\n",
    "result = col.find({\"이름\":\"홍길동\",\"나이\":30})\n",
    "for r in result:\n",
    "    print(r)"
   ]
  },
  {
   "cell_type": "code",
   "execution_count": 41,
   "id": "08502de1",
   "metadata": {},
   "outputs": [
    {
     "name": "stdout",
     "output_type": "stream",
     "text": [
      "{'_id': ObjectId('61110d4faa946ed10589be5a'), '이름': '홍길동', '나이': 30, '별명': '의적'}\n"
     ]
    }
   ],
   "source": [
    "#특정조건검색 / 이름이 홍길동이거나 나이가 30이거나 결과를 모두 가져옴 (or)\n",
    "result = col.find({\"$or\" : [ {\"이름\":\"홍길동\"} , {\"나이\":30} ] } )\n",
    "for r in result:\n",
    "    print(r)"
   ]
  },
  {
   "cell_type": "code",
   "execution_count": 42,
   "id": "e94b2228",
   "metadata": {},
   "outputs": [
    {
     "name": "stdout",
     "output_type": "stream",
     "text": [
      "{'_id': ObjectId('61110d4faa946ed10589be5a'), '이름': '홍길동', '나이': 30, '별명': '의적'}\n"
     ]
    }
   ],
   "source": [
    "#결과의 맨 위의 값 하나만 가져옴\n",
    "result = col.find_one({\"이름\":\"홍길동\"})\n",
    "print(result)"
   ]
  },
  {
   "cell_type": "code",
   "execution_count": 43,
   "id": "a96bfab8",
   "metadata": {},
   "outputs": [],
   "source": [
    "# 나이가 40보다 큰 사람을 찾음\n",
    "result = col.find({\"나이\": {\"$gt\" : 40} })   #$gte = 크거나 같거나 (40도 포함됨)\n",
    "for r in result :\n",
    "    print(r)"
   ]
  },
  {
   "cell_type": "code",
   "execution_count": 44,
   "id": "69502c73",
   "metadata": {},
   "outputs": [],
   "source": [
    "#나이가 40보다 크고 50보다 작은 경우\n",
    "result = col.find({\"나이\": {\"$gt\" : 40, \"$lt\": 50} })   #$lte = 작거나 같거나 (50도 포함됨)\n",
    "for r in result :\n",
    "    print(r)"
   ]
  },
  {
   "cell_type": "code",
   "execution_count": 47,
   "id": "f5696212",
   "metadata": {},
   "outputs": [],
   "source": [
    "#나이가 40보다 크고 50보다 작은 데이터의 나이만 보고 싶을때\n",
    "result = col.find({\"나이\": {\"$gt\" : 40, \"$lte\": 50}},{\"나이\":True})\n",
    "for r in result:\n",
    "    print(r)"
   ]
  },
  {
   "cell_type": "code",
   "execution_count": 48,
   "id": "2b52cee5",
   "metadata": {},
   "outputs": [],
   "source": [
    "#나이가 40보다 크고 50보다 작거나 같은 데이터의 나이만 보고 싶을때 /단 id는 미출력\n",
    "result = col.find({\"나이\": {\"$gt\" : 40, \"$lte\": 50}},{\"_id\":False, \"나이\":True})\n",
    "for r in result:\n",
    "    print(r)"
   ]
  },
  {
   "cell_type": "code",
   "execution_count": 49,
   "id": "e22d0c59",
   "metadata": {},
   "outputs": [
    {
     "name": "stdout",
     "output_type": "stream",
     "text": [
      "{'_id': ObjectId('61110d4faa946ed10589be5a'), '이름': '홍길동', '나이': 30, '별명': '의적'}\n"
     ]
    }
   ],
   "source": [
    "#limit(4) 결과를 4개만 보겠다.\n",
    "result = col.find().limit(4)\n",
    "for r in result:\n",
    "    print(r)"
   ]
  },
  {
   "cell_type": "code",
   "execution_count": 50,
   "id": "7434be9d",
   "metadata": {},
   "outputs": [],
   "source": [
    "#skip(1) 첫 1개의 데이터는 보지 않는다.\n",
    "result = col.find().skip(1).limit(4)\n",
    "for r in result:\n",
    "    print(r)"
   ]
  },
  {
   "cell_type": "markdown",
   "id": "61241f17",
   "metadata": {},
   "source": [
    "### 업데이트(Update)"
   ]
  },
  {
   "cell_type": "code",
   "execution_count": 57,
   "id": "42c1da22",
   "metadata": {},
   "outputs": [
    {
     "name": "stderr",
     "output_type": "stream",
     "text": [
      "<ipython-input-57-2a9235223960>:2: DeprecationWarning: update is deprecated. Use replace_one, update_one or update_many instead.\n",
      "  col.update({\"이름\":\"홍길동\"}, {\"이름\":\"유길동\"})\n",
      "<ipython-input-57-2a9235223960>:6: DeprecationWarning: update is deprecated. Use replace_one, update_one or update_many instead.\n",
      "  col.update({\"이름\":\"홍길동\"}, {\"$set\":{\"이름\" :\"주길동\"}})\n"
     ]
    },
    {
     "data": {
      "text/plain": [
       "{'n': 0, 'nModified': 0, 'ok': 1.0, 'updatedExisting': False}"
      ]
     },
     "execution_count": 57,
     "metadata": {},
     "output_type": "execute_result"
    }
   ],
   "source": [
    "#아래와 같은 쿼리는 이름이 바뀌나 나이, 별명 등의 정보는 사라지기때문에 주의해야함.\n",
    "col.update({\"이름\":\"홍길동\"}, {\"이름\":\"유길동\"})\n",
    "\n",
    "\n",
    "# 홍길동을 찾아 주길동으로 바꿔라. 맨 위에 있는 데이터만 수정됨.\n",
    "col.update({\"이름\":\"홍길동\"}, {\"$set\":{\"이름\" :\"주길동\"}})\n"
   ]
  },
  {
   "cell_type": "markdown",
   "id": "3654de74",
   "metadata": {},
   "source": [
    "### 업서트(upsert)"
   ]
  },
  {
   "cell_type": "code",
   "execution_count": 58,
   "id": "e026e3d7",
   "metadata": {},
   "outputs": [
    {
     "name": "stderr",
     "output_type": "stream",
     "text": [
      "<ipython-input-58-253a3b91fd70>:1: DeprecationWarning: update is deprecated. Use replace_one, update_one or update_many instead.\n",
      "  col.update({\"이름\":\"정길동\"},{\"$set\":{\"별명\":\"의적\"}},upsert=True,multi=True)\n"
     ]
    },
    {
     "data": {
      "text/plain": [
       "{'n': 1,\n",
       " 'nModified': 0,\n",
       " 'upserted': ObjectId('6111105cccefb37646b20167'),\n",
       " 'ok': 1.0,\n",
       " 'updatedExisting': False}"
      ]
     },
     "execution_count": 58,
     "metadata": {},
     "output_type": "execute_result"
    }
   ],
   "source": [
    "col.update({\"이름\":\"정길동\"},{\"$set\":{\"별명\":\"의적\"}},upsert=True,multi=True)"
   ]
  },
  {
   "cell_type": "code",
   "execution_count": 60,
   "id": "8ae6ab78",
   "metadata": {},
   "outputs": [
    {
     "name": "stdout",
     "output_type": "stream",
     "text": [
      "{'_id': ObjectId('61110d4faa946ed10589be5a'), '이름': '유길동'}\n",
      "{'_id': ObjectId('6111105cccefb37646b20167'), '이름': '정길동', '별명': '의적'}\n"
     ]
    }
   ],
   "source": [
    "result = col.find()\n",
    "for r in result:\n",
    "    print(r)\n",
    "    "
   ]
  },
  {
   "cell_type": "markdown",
   "id": "b2229316",
   "metadata": {},
   "source": [
    "### 삭제-1 (remove)"
   ]
  },
  {
   "cell_type": "code",
   "execution_count": 61,
   "id": "18f8e3cf",
   "metadata": {},
   "outputs": [
    {
     "name": "stderr",
     "output_type": "stream",
     "text": [
      "<ipython-input-61-65fff4febac1>:2: DeprecationWarning: remove is deprecated. Use delete_one or delete_many instead.\n",
      "  col.remove({\"이름\":\"정길동\"})\n"
     ]
    },
    {
     "data": {
      "text/plain": [
       "{'n': 1, 'ok': 1.0}"
      ]
     },
     "execution_count": 61,
     "metadata": {},
     "output_type": "execute_result"
    }
   ],
   "source": [
    "# 이름이 정길동인 데이터를 모두 삭제한다.\n",
    "col.remove({\"이름\":\"정길동\"})\n",
    "\n",
    "#데이터가 전체 삭제됨. 주의해야함\n",
    "# col.remove({})"
   ]
  },
  {
   "cell_type": "code",
   "execution_count": 62,
   "id": "4a9067fc",
   "metadata": {},
   "outputs": [
    {
     "name": "stdout",
     "output_type": "stream",
     "text": [
      "{'_id': ObjectId('61110d4faa946ed10589be5a'), '이름': '유길동'}\n"
     ]
    }
   ],
   "source": [
    "result = col.find()\n",
    "for r in result:\n",
    "    print(r)\n",
    "    "
   ]
  },
  {
   "cell_type": "markdown",
   "id": "d7098a4c",
   "metadata": {},
   "source": [
    "### 삭제-2 (delete)"
   ]
  },
  {
   "cell_type": "code",
   "execution_count": 65,
   "id": "a4c54c66",
   "metadata": {},
   "outputs": [
    {
     "data": {
      "text/plain": [
       "<pymongo.results.DeleteResult at 0x7f6aa9ff3c00>"
      ]
     },
     "execution_count": 65,
     "metadata": {},
     "output_type": "execute_result"
    }
   ],
   "source": [
    "# 데이터삭제_2 - delete_one 하나만 삭제\n",
    "col.delete_one({\"이름\":\"주길동\"})\n",
    "\n",
    "#delete_many 전체삭제\n",
    "col.delete_many({\"이름\":\"유길동\"})"
   ]
  },
  {
   "cell_type": "code",
   "execution_count": 66,
   "id": "03f155a7",
   "metadata": {},
   "outputs": [],
   "source": [
    "result = col.find()\n",
    "for r in result:\n",
    "    print(r)\n",
    "    "
   ]
  },
  {
   "cell_type": "code",
   "execution_count": null,
   "id": "ba4ee459",
   "metadata": {},
   "outputs": [],
   "source": []
  }
 ],
 "metadata": {
  "kernelspec": {
   "display_name": "Environment (conda_py38_multi)",
   "language": "python",
   "name": "conda_py38_multi"
  },
  "language_info": {
   "codemirror_mode": {
    "name": "ipython",
    "version": 3
   },
   "file_extension": ".py",
   "mimetype": "text/x-python",
   "name": "python",
   "nbconvert_exporter": "python",
   "pygments_lexer": "ipython3",
   "version": "3.8.11"
  }
 },
 "nbformat": 4,
 "nbformat_minor": 5
}
